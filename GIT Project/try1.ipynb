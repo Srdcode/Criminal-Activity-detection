{
 "cells": [
  {
   "cell_type": "code",
   "execution_count": 2,
   "metadata": {},
   "outputs": [],
   "source": [
    "import numpy as np\n",
    "import os\n",
    "import tensorflow as tf\n",
    "from tensorflow.keras.applications.vgg16 import VGG16\n",
    "from tensorflow.keras.layers import Dense, Flatten, LSTM, TimeDistributed, Dropout\n",
    "from tensorflow.keras.models import Model, Sequential\n",
    "from tensorflow.keras.optimizers import Adam\n",
    "from tensorflow.keras.preprocessing.image import img_to_array, load_img\n",
    "from tensorflow.keras.utils import to_categorical\n",
    "from sklearn.model_selection import train_test_split\n",
    "import cv2\n",
    "import os\n",
    "import datetime \n",
    "import time"
   ]
  },
  {
   "cell_type": "code",
   "execution_count": 6,
   "metadata": {},
   "outputs": [],
   "source": [
    "# Define the size of the frames\n",
    "frame_size = (224, 224)\n",
    "\n",
    "# Define the number of frames per sequence\n",
    "frames_per_sequence = 16\n",
    "\n",
    "# Define the batch size\n",
    "batch_size = 32\n",
    "\n",
    "# Define the number of epochs\n",
    "num_epochs = 10\n",
    "# num_epochs = 2\n",
    "\n",
    "\n",
    "# Define the path to the video dataset directory\n",
    "data_dir = \"Dataset\"\n",
    "\n",
    "# Define the list of categories\n",
    "categories = [\"Fighting\",\"Kidnap\", \"Murder\", \"Robbery\", \"Shoplifting\"]"
   ]
  },
  {
   "cell_type": "code",
   "execution_count": 7,
   "metadata": {},
   "outputs": [],
   "source": [
    "# Load VGG16 model without the top layers\n",
    "vgg16 = VGG16(weights='imagenet', include_top=False, input_shape=(frame_size[0], frame_size[1], 3))\n",
    "\n",
    "# Freeze the layers\n",
    "for layer in vgg16.layers:\n",
    "    layer.trainable = False\n",
    "\n",
    "# Define the LSTM model\n",
    "model = Sequential()\n",
    "model.add(TimeDistributed(vgg16, input_shape=(frames_per_sequence, frame_size[0], frame_size[1], 3)))\n",
    "model.add(TimeDistributed(Flatten()))\n",
    "model.add(LSTM(256, return_sequences=False))\n",
    "model.add(Dropout(0.5))\n",
    "model.add(Dense(128, activation='relu'))\n",
    "model.add(Dense(len(categories), activation='softmax'))\n",
    "\n",
    "# Compile the model\n",
    "optimizer = Adam(learning_rate=1e-4, decay=1e-6)\n",
    "model.compile(loss='categorical_crossentropy', optimizer=optimizer, metrics=['accuracy'])"
   ]
  },
  {
   "attachments": {},
   "cell_type": "markdown",
   "metadata": {},
   "source": [
    "##### without pickle"
   ]
  },
  {
   "cell_type": "code",
   "execution_count": 7,
   "metadata": {},
   "outputs": [],
   "source": [
    "# Load the dataset\n",
    "data = []\n",
    "labels = []\n",
    "\n",
    "for category in categories:\n",
    "    path = os.path.join(data_dir, category)\n",
    "    label = categories.index(category)\n",
    "\n",
    "    for filename in os.listdir(path):\n",
    "        filepath = os.path.join(path, filename)\n",
    "\n",
    "        # Initialize a list to store the frames\n",
    "        frames = []\n",
    "\n",
    "        # Open the video file\n",
    "        cap = cv2.VideoCapture(filepath)\n",
    "\n",
    "        # Loop through the frames and add them to the list\n",
    "        while True:\n",
    "            ret, frame = cap.read()\n",
    "            if not ret:\n",
    "                break\n",
    "\n",
    "            # Resize the frame\n",
    "            frame = cv2.resize(frame, frame_size)\n",
    "\n",
    "            # Convert the frame to an array and normalize the pixel values\n",
    "            frame = img_to_array(frame)\n",
    "            frame = frame.astype('float32') / 255.0\n",
    "\n",
    "            frames.append(frame)\n",
    "\n",
    "        # Release the video file\n",
    "        cap.release()\n",
    "\n",
    "        # If the number of frames is less than the required number, pad the list with zeros\n",
    "        if len(frames) < frames_per_sequence:\n",
    "            frames.extend([np.zeros(frame_size) for _ in range(frames_per_sequence - len(frames))])\n",
    "\n",
    "        # Keep only the required number of frames\n",
    "        frames = frames[:frames_per_sequence]\n",
    "\n",
    "        # Add the list of frames to the data list and the corresponding label to the labels list\n",
    "        data.append(frames)\n",
    "        labels.append(label)\n"
   ]
  },
  {
   "cell_type": "code",
   "execution_count": 12,
   "metadata": {},
   "outputs": [],
   "source": [
    "# Convert the data and labels lists to arrays\n",
    "data = np.array(data)\n",
    "labels = np.array(labels)\n",
    "\n",
    "# Convert the labels to categorical format\n",
    "labels = to_categorical(labels, num_classes=len(categories))\n",
    "\n",
    "# Split the data into training and testing sets\n",
    "X_train, X_test, y_train, y_test = train_test_split(data, labels, test_size=0.2, random_state=42)\n"
   ]
  },
  {
   "attachments": {},
   "cell_type": "markdown",
   "metadata": {},
   "source": [
    "##### for pickle file"
   ]
  },
  {
   "cell_type": "code",
   "execution_count": 8,
   "metadata": {},
   "outputs": [],
   "source": [
    "import pickle\n",
    "\n",
    "# Load the dataset\n",
    "data = []\n",
    "labels = []\n",
    "\n",
    "for category in categories:\n",
    "    path = os.path.join(data_dir, category)\n",
    "    label = categories.index(category)\n",
    "\n",
    "    for filename in os.listdir(path):\n",
    "        filepath = os.path.join(path, filename)\n",
    "\n",
    "        # Initialize a list to store the frames\n",
    "        frames = []\n",
    "\n",
    "        # Open the video file\n",
    "        cap = cv2.VideoCapture(filepath)\n",
    "\n",
    "        # Loop through the frames and add them to the list\n",
    "        while True:\n",
    "            ret, frame = cap.read()\n",
    "            if not ret:\n",
    "                break\n",
    "\n",
    "            # Resize the frame\n",
    "            frame = cv2.resize(frame, frame_size)\n",
    "\n",
    "            # Convert the frame to an array and normalize the pixel values\n",
    "            frame = img_to_array(frame)\n",
    "            frame = frame.astype('float32') / 255.0\n",
    "\n",
    "            frames.append(frame)\n",
    "\n",
    "        # Release the video file\n",
    "        cap.release()\n",
    "\n",
    "        # If the number of frames is less than the required number, pad the list with zeros\n",
    "        if len(frames) < frames_per_sequence:\n",
    "            frames.extend([np.zeros(frame_size) for _ in range(frames_per_sequence - len(frames))])\n",
    "\n",
    "        # Keep only the required number of frames\n",
    "        frames = frames[:frames_per_sequence]\n",
    "\n",
    "        # Add the list of frames to the data list and the corresponding label to the labels list\n",
    "        data.append(frames)\n",
    "        labels.append(label)\n",
    "\n",
    "# Save the data and labels to a pickle file\n",
    "with open('data.pkl', 'wb') as f:\n",
    "    pickle.dump((data, labels), f)\n"
   ]
  },
  {
   "cell_type": "code",
   "execution_count": null,
   "metadata": {},
   "outputs": [],
   "source": [
    "import numpy as np\n",
    "import pickle\n",
    "\n",
    "# Load the data and labels from the pickle file\n",
    "with open('data.pkl', 'rb') as f:\n",
    "    data, labels = pickle.load(f)\n",
    "\n",
    "# Convert the data and labels lists to arrays\n",
    "data = np.array(data)\n",
    "labels = np.array(labels)\n",
    "\n",
    "# Convert the labels to categorical format\n",
    "labels = to_categorical(labels, num_classes=len(categories))\n",
    "\n",
    "# Split the data into training and testing sets\n",
    "X_train, X_test, y_train, y_test = train_test_split(data, labels, test_size=0.2, random_state=42)\n"
   ]
  },
  {
   "attachments": {},
   "cell_type": "markdown",
   "metadata": {},
   "source": [
    "#### fit"
   ]
  },
  {
   "cell_type": "code",
   "execution_count": 13,
   "metadata": {},
   "outputs": [
    {
     "name": "stdout",
     "output_type": "stream",
     "text": [
      "Epoch 1/2\n",
      "4/4 [==============================] - 815s 218s/step - loss: 0.7363 - accuracy: 0.5304 - val_loss: 0.6464 - val_accuracy: 0.5517\n",
      "Epoch 2/2\n",
      "4/4 [==============================] - 784s 209s/step - loss: 0.4917 - accuracy: 0.8000 - val_loss: 0.4593 - val_accuracy: 0.7586\n"
     ]
    }
   ],
   "source": [
    "history = model.fit(X_train, y_train, batch_size=batch_size, epochs=num_epochs, validation_data=(X_test, y_test))"
   ]
  },
  {
   "cell_type": "code",
   "execution_count": 14,
   "metadata": {},
   "outputs": [
    {
     "name": "stdout",
     "output_type": "stream",
     "text": [
      "1/1 [==============================] - 135s 135s/step - loss: 0.4593 - accuracy: 0.7586\n",
      "Test Loss:  0.45931559801101685\n",
      "Test Accuracy:  0.7586206793785095\n"
     ]
    }
   ],
   "source": [
    "loss, accuracy = model.evaluate(X_test, y_test)\n",
    "\n",
    "print(\"Test Loss: \", loss)\n",
    "print(\"Test Accuracy: \", accuracy)"
   ]
  },
  {
   "cell_type": "code",
   "execution_count": 15,
   "metadata": {},
   "outputs": [],
   "source": [
    "model.save(\"try1_model.h5\")"
   ]
  },
  {
   "cell_type": "code",
   "execution_count": 16,
   "metadata": {},
   "outputs": [
    {
     "data": {
      "image/png": "[encoded data removed]",
      "text/plain": [
       "<Figure size 640x480 with 1 Axes>"
      ]
     },
     "metadata": {},
     "output_type": "display_data"
    },
    {
     "data": {
      "image/png": "[encoded data removed]",
      "text/plain": [
       "<Figure size 640x480 with 1 Axes>"
      ]
     },
     "metadata": {},
     "output_type": "display_data"
    }
   ],
   "source": [
    "import matplotlib.pyplot as plt\n",
    "\n",
    "\n",
    "# Plot the training and validation loss\n",
    "plt.plot(history.history['loss'])\n",
    "plt.plot(history.history['val_loss'])\n",
    "plt.title('Model loss')\n",
    "plt.ylabel('Loss')\n",
    "plt.xlabel('Epoch')\n",
    "plt.legend(['Train', 'Validation'], loc='upper right')\n",
    "plt.show()\n",
    "\n",
    "# Plot the training and validation accuracy\n",
    "plt.plot(history.history['accuracy'])\n",
    "plt.plot(history.history['val_accuracy'])\n",
    "plt.title('Model accuracy')\n",
    "plt.ylabel('Accuracy')\n",
    "plt.xlabel('Epoch')\n",
    "plt.legend(['Train', 'Validation'], loc='lower right')\n",
    "plt.show()\n"
   ]
  },
  {
   "cell_type": "code",
   "execution_count": 39,
   "metadata": {},
   "outputs": [
    {
     "name": "stdout",
     "output_type": "stream",
     "text": [
      "1/1 [==============================] - 2s 2s/step\n",
      "Predicted category: Kidnap\n",
      "Probability: 0.58\n"
     ]
    }
   ],
   "source": [
    "import cv2\n",
    "import numpy as np\n",
    "\n",
    "# Load the video file and extract frames\n",
    "cap = cv2.VideoCapture('trydataset\\Fighting\\v_Fighting_g002_c001.mp4')\n",
    "frames = []\n",
    "while True:\n",
    "    ret, frame = cap.read()\n",
    "    if not ret:\n",
    "        break\n",
    "    frame = cv2.resize(frame, (224, 224))\n",
    "    frame = cv2.cvtColor(frame, cv2.COLOR_BGR2RGB) # Convert to RGB\n",
    "    frame = frame.astype('float32') / 255.0 # Normalize pixel values\n",
    "    frames.append(frame)\n",
    "cap.release()\n",
    "\n",
    "# Pad or truncate frames to desired length\n",
    "frames_per_sequence = 16\n",
    "if len(frames) < frames_per_sequence:\n",
    "    frames.extend([np.zeros((224, 224, 3)) for _ in range(frames_per_sequence - len(frames))])\n",
    "else:\n",
    "    frames = frames[:frames_per_sequence]\n",
    "\n",
    "# Convert frames to numpy array\n",
    "frames = np.array(frames)\n",
    "\n",
    "# Add batch dimension and change number of channels to 3\n",
    "frames = np.expand_dims(frames, axis=0)\n",
    "frames = np.expand_dims(frames,  axis=-1)\n",
    "\n",
    "# Make prediction\n",
    "predicted_probs = model.predict(frames)\n",
    "\n",
    "# Get the index of the category with the highest probability\n",
    "pred_idx = np.argmax(predicted_probs)\n",
    "predicted_category = categories[np.argmax(predicted_probs)]\n",
    "\n",
    "# Get the corresponding probability\n",
    "prob = predicted_probs[0][pred_idx]\n",
    "\n",
    "# Print the predicted category with the corresponding probability\n",
    "print(f\"Predicted category: {predicted_category}\")\n",
    "print(f\"Probability: {prob:.2f}\")\n",
    "\n"
   ]
  },
  {
   "cell_type": "code",
   "execution_count": 56,
   "metadata": {},
   "outputs": [],
   "source": [
    "def predict_category(video_path):\n",
    "    # Load the video file and extract frames\n",
    "    cap = cv2.VideoCapture(video_path)\n",
    "    frames = []\n",
    "    while True:\n",
    "        ret, frame = cap.read()\n",
    "        if not ret:\n",
    "            break\n",
    "        frame = cv2.resize(frame, (224, 224))\n",
    "        frame = cv2.cvtColor(frame, cv2.COLOR_BGR2RGB) # Convert to RGB\n",
    "        frame = frame.astype('float32') / 255.0 # Normalize pixel values\n",
    "        frames.append(frame)\n",
    "    cap.release()\n",
    "\n",
    "    # Pad or truncate frames to desired length\n",
    "    frames_per_sequence = 16\n",
    "    if len(frames) < frames_per_sequence:\n",
    "        frames.extend([np.zeros((224, 224, 3)) for _ in range(frames_per_sequence - len(frames))])\n",
    "    else:\n",
    "        frames = frames[:frames_per_sequence]\n",
    "\n",
    "    # Convert frames to numpy array\n",
    "    frames = np.array(frames)\n",
    "\n",
    "    # Add batch dimension and change number of channels to 3\n",
    "    frames = np.expand_dims(frames, axis=0)\n",
    "    frames = np.expand_dims(frames,  axis=-1)\n",
    "\n",
    "    # Make prediction\n",
    "    predicted_probs = model.predict(frames)\n",
    "\n",
    "    # Get the index of the category with the highest probability\n",
    "    pred_idx = np.argmax(predicted_probs)\n",
    "    predicted_category = categories[np.argmax(predicted_probs)]\n",
    "\n",
    "    # Get the corresponding probability\n",
    "    prob = predicted_probs[0][pred_idx]\n",
    "\n",
    "    # Print the predicted category with the corresponding probability\n",
    "    print(f\"Predicted category: {predicted_category}\")\n",
    "    print(f\"Probability: {prob:.2f}\")\n",
    "\n",
    "\n",
    "    output_directory_path = 'output_prediction'\n",
    "    predicted_output_directory_path = os.path.join(output_directory_path, predicted_category)\n",
    "\n",
    "    # Create the directory if it doesn't exist.\n",
    "    if not os.path.exists(predicted_output_directory_path):\n",
    "        os.makedirs(predicted_output_directory_path)\n",
    "\n",
    "    timestamp = time.strftime('%Y%m%d_%H%M%S')\n",
    "\n",
    "    # Write the predicted action and confidence to the output file in the predicted output directory.\n",
    "    output_file_path = os.path.join(predicted_output_directory_path, f'{predicted_category}_output_{timestamp}.txt')\n",
    "\n",
    "    # Write the predicted action and confidence to a file in the output directory corresponding to the predicted class.\n",
    "    # output_file_path = os.path.join(\"output_file\", f'{predicted_class_name}.txt')\n",
    "\n",
    "\n",
    "    # Get the current time\n",
    "    now = datetime.datetime.now()\n",
    "    # Format the timestamp in the desired format\n",
    "    date_time_str = now.strftime(\"Date %Y-%m-%d, Time %H:%M:%S\")\n",
    "\n",
    "\n",
    "    # Write the predicted action and confidence to the output file.\n",
    "    with open(output_file_path, 'w') as f:\n",
    "        f.write(f'Action Predicted: {predicted_category}\\nAccuracy: {prob:.2f}\\n{date_time_str}')\n",
    "        \n",
    "\n"
   ]
  },
  {
   "cell_type": "code",
   "execution_count": 57,
   "metadata": {},
   "outputs": [
    {
     "name": "stdout",
     "output_type": "stream",
     "text": [
      "1/1 [==============================] - 2s 2s/step\n",
      "Predicted category: Kidnap\n",
      "Probability: 0.58\n"
     ]
    }
   ],
   "source": [
    "predict_category(\"sql demo\\v_Robbery_g001_c001.mp4\")"
   ]
  }
 ],
 "metadata": {
  "kernelspec": {
   "display_name": "pdlabenv",
   "language": "python",
   "name": "python3"
  },
  "language_info": {
   "codemirror_mode": {
    "name": "ipython",
    "version": 3
   },
   "file_extension": ".py",
   "mimetype": "text/x-python",
   "name": "python",
   "nbconvert_exporter": "python",
   "pygments_lexer": "ipython3",
   "version": "3.9.16"
  },
  "orig_nbformat": 4
 },
 "nbformat": 4,
 "nbformat_minor": 2
}
